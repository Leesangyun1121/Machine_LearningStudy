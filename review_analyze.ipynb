{
 "cells": [
  {
   "cell_type": "markdown",
   "metadata": {},
   "source": [
    "# 무신사 댓글분석"
   ]
  },
  {
   "cell_type": "markdown",
   "metadata": {},
   "source": [
    "## 댓글 불러오기\n",
    "한번에 500페이지씩 불러오고 별점 1,2점이면 0 10점이면 1을 부여한상태로 저장 대략 30분정도 걸림"
   ]
  },
  {
   "cell_type": "code",
   "execution_count": 136,
   "metadata": {},
   "outputs": [
    {
     "name": "stdout",
     "output_type": "stream",
     "text": [
      "4501\n",
      "5000\n",
      "2020-05-15 17:43:27.425109\n"
     ]
    },
    {
     "ename": "URLError",
     "evalue": "<urlopen error [Errno 8] nodename nor servname provided, or not known>",
     "output_type": "error",
     "traceback": [
      "\u001b[0;31m---------------------------------------------------------------------------\u001b[0m",
      "\u001b[0;31mgaierror\u001b[0m                                  Traceback (most recent call last)",
      "\u001b[0;32m~/opt/anaconda3/lib/python3.7/urllib/request.py\u001b[0m in \u001b[0;36mdo_open\u001b[0;34m(self, http_class, req, **http_conn_args)\u001b[0m\n\u001b[1;32m   1318\u001b[0m                 h.request(req.get_method(), req.selector, req.data, headers,\n\u001b[0;32m-> 1319\u001b[0;31m                           encode_chunked=req.has_header('Transfer-encoding'))\n\u001b[0m\u001b[1;32m   1320\u001b[0m             \u001b[0;32mexcept\u001b[0m \u001b[0mOSError\u001b[0m \u001b[0;32mas\u001b[0m \u001b[0merr\u001b[0m\u001b[0;34m:\u001b[0m \u001b[0;31m# timeout error\u001b[0m\u001b[0;34m\u001b[0m\u001b[0;34m\u001b[0m\u001b[0m\n",
      "\u001b[0;32m~/opt/anaconda3/lib/python3.7/http/client.py\u001b[0m in \u001b[0;36mrequest\u001b[0;34m(self, method, url, body, headers, encode_chunked)\u001b[0m\n\u001b[1;32m   1251\u001b[0m         \u001b[0;34m\"\"\"Send a complete request to the server.\"\"\"\u001b[0m\u001b[0;34m\u001b[0m\u001b[0;34m\u001b[0m\u001b[0m\n\u001b[0;32m-> 1252\u001b[0;31m         \u001b[0mself\u001b[0m\u001b[0;34m.\u001b[0m\u001b[0m_send_request\u001b[0m\u001b[0;34m(\u001b[0m\u001b[0mmethod\u001b[0m\u001b[0;34m,\u001b[0m \u001b[0murl\u001b[0m\u001b[0;34m,\u001b[0m \u001b[0mbody\u001b[0m\u001b[0;34m,\u001b[0m \u001b[0mheaders\u001b[0m\u001b[0;34m,\u001b[0m \u001b[0mencode_chunked\u001b[0m\u001b[0;34m)\u001b[0m\u001b[0;34m\u001b[0m\u001b[0;34m\u001b[0m\u001b[0m\n\u001b[0m\u001b[1;32m   1253\u001b[0m \u001b[0;34m\u001b[0m\u001b[0m\n",
      "\u001b[0;32m~/opt/anaconda3/lib/python3.7/http/client.py\u001b[0m in \u001b[0;36m_send_request\u001b[0;34m(self, method, url, body, headers, encode_chunked)\u001b[0m\n\u001b[1;32m   1297\u001b[0m             \u001b[0mbody\u001b[0m \u001b[0;34m=\u001b[0m \u001b[0m_encode\u001b[0m\u001b[0;34m(\u001b[0m\u001b[0mbody\u001b[0m\u001b[0;34m,\u001b[0m \u001b[0;34m'body'\u001b[0m\u001b[0;34m)\u001b[0m\u001b[0;34m\u001b[0m\u001b[0;34m\u001b[0m\u001b[0m\n\u001b[0;32m-> 1298\u001b[0;31m         \u001b[0mself\u001b[0m\u001b[0;34m.\u001b[0m\u001b[0mendheaders\u001b[0m\u001b[0;34m(\u001b[0m\u001b[0mbody\u001b[0m\u001b[0;34m,\u001b[0m \u001b[0mencode_chunked\u001b[0m\u001b[0;34m=\u001b[0m\u001b[0mencode_chunked\u001b[0m\u001b[0;34m)\u001b[0m\u001b[0;34m\u001b[0m\u001b[0;34m\u001b[0m\u001b[0m\n\u001b[0m\u001b[1;32m   1299\u001b[0m \u001b[0;34m\u001b[0m\u001b[0m\n",
      "\u001b[0;32m~/opt/anaconda3/lib/python3.7/http/client.py\u001b[0m in \u001b[0;36mendheaders\u001b[0;34m(self, message_body, encode_chunked)\u001b[0m\n\u001b[1;32m   1246\u001b[0m             \u001b[0;32mraise\u001b[0m \u001b[0mCannotSendHeader\u001b[0m\u001b[0;34m(\u001b[0m\u001b[0;34m)\u001b[0m\u001b[0;34m\u001b[0m\u001b[0;34m\u001b[0m\u001b[0m\n\u001b[0;32m-> 1247\u001b[0;31m         \u001b[0mself\u001b[0m\u001b[0;34m.\u001b[0m\u001b[0m_send_output\u001b[0m\u001b[0;34m(\u001b[0m\u001b[0mmessage_body\u001b[0m\u001b[0;34m,\u001b[0m \u001b[0mencode_chunked\u001b[0m\u001b[0;34m=\u001b[0m\u001b[0mencode_chunked\u001b[0m\u001b[0;34m)\u001b[0m\u001b[0;34m\u001b[0m\u001b[0;34m\u001b[0m\u001b[0m\n\u001b[0m\u001b[1;32m   1248\u001b[0m \u001b[0;34m\u001b[0m\u001b[0m\n",
      "\u001b[0;32m~/opt/anaconda3/lib/python3.7/http/client.py\u001b[0m in \u001b[0;36m_send_output\u001b[0;34m(self, message_body, encode_chunked)\u001b[0m\n\u001b[1;32m   1025\u001b[0m         \u001b[0;32mdel\u001b[0m \u001b[0mself\u001b[0m\u001b[0;34m.\u001b[0m\u001b[0m_buffer\u001b[0m\u001b[0;34m[\u001b[0m\u001b[0;34m:\u001b[0m\u001b[0;34m]\u001b[0m\u001b[0;34m\u001b[0m\u001b[0;34m\u001b[0m\u001b[0m\n\u001b[0;32m-> 1026\u001b[0;31m         \u001b[0mself\u001b[0m\u001b[0;34m.\u001b[0m\u001b[0msend\u001b[0m\u001b[0;34m(\u001b[0m\u001b[0mmsg\u001b[0m\u001b[0;34m)\u001b[0m\u001b[0;34m\u001b[0m\u001b[0;34m\u001b[0m\u001b[0m\n\u001b[0m\u001b[1;32m   1027\u001b[0m \u001b[0;34m\u001b[0m\u001b[0m\n",
      "\u001b[0;32m~/opt/anaconda3/lib/python3.7/http/client.py\u001b[0m in \u001b[0;36msend\u001b[0;34m(self, data)\u001b[0m\n\u001b[1;32m    965\u001b[0m             \u001b[0;32mif\u001b[0m \u001b[0mself\u001b[0m\u001b[0;34m.\u001b[0m\u001b[0mauto_open\u001b[0m\u001b[0;34m:\u001b[0m\u001b[0;34m\u001b[0m\u001b[0;34m\u001b[0m\u001b[0m\n\u001b[0;32m--> 966\u001b[0;31m                 \u001b[0mself\u001b[0m\u001b[0;34m.\u001b[0m\u001b[0mconnect\u001b[0m\u001b[0;34m(\u001b[0m\u001b[0;34m)\u001b[0m\u001b[0;34m\u001b[0m\u001b[0;34m\u001b[0m\u001b[0m\n\u001b[0m\u001b[1;32m    967\u001b[0m             \u001b[0;32melse\u001b[0m\u001b[0;34m:\u001b[0m\u001b[0;34m\u001b[0m\u001b[0;34m\u001b[0m\u001b[0m\n",
      "\u001b[0;32m~/opt/anaconda3/lib/python3.7/http/client.py\u001b[0m in \u001b[0;36mconnect\u001b[0;34m(self)\u001b[0m\n\u001b[1;32m   1413\u001b[0m \u001b[0;34m\u001b[0m\u001b[0m\n\u001b[0;32m-> 1414\u001b[0;31m             \u001b[0msuper\u001b[0m\u001b[0;34m(\u001b[0m\u001b[0;34m)\u001b[0m\u001b[0;34m.\u001b[0m\u001b[0mconnect\u001b[0m\u001b[0;34m(\u001b[0m\u001b[0;34m)\u001b[0m\u001b[0;34m\u001b[0m\u001b[0;34m\u001b[0m\u001b[0m\n\u001b[0m\u001b[1;32m   1415\u001b[0m \u001b[0;34m\u001b[0m\u001b[0m\n",
      "\u001b[0;32m~/opt/anaconda3/lib/python3.7/http/client.py\u001b[0m in \u001b[0;36mconnect\u001b[0;34m(self)\u001b[0m\n\u001b[1;32m    937\u001b[0m         self.sock = self._create_connection(\n\u001b[0;32m--> 938\u001b[0;31m             (self.host,self.port), self.timeout, self.source_address)\n\u001b[0m\u001b[1;32m    939\u001b[0m         \u001b[0mself\u001b[0m\u001b[0;34m.\u001b[0m\u001b[0msock\u001b[0m\u001b[0;34m.\u001b[0m\u001b[0msetsockopt\u001b[0m\u001b[0;34m(\u001b[0m\u001b[0msocket\u001b[0m\u001b[0;34m.\u001b[0m\u001b[0mIPPROTO_TCP\u001b[0m\u001b[0;34m,\u001b[0m \u001b[0msocket\u001b[0m\u001b[0;34m.\u001b[0m\u001b[0mTCP_NODELAY\u001b[0m\u001b[0;34m,\u001b[0m \u001b[0;36m1\u001b[0m\u001b[0;34m)\u001b[0m\u001b[0;34m\u001b[0m\u001b[0;34m\u001b[0m\u001b[0m\n",
      "\u001b[0;32m~/opt/anaconda3/lib/python3.7/socket.py\u001b[0m in \u001b[0;36mcreate_connection\u001b[0;34m(address, timeout, source_address)\u001b[0m\n\u001b[1;32m    706\u001b[0m     \u001b[0merr\u001b[0m \u001b[0;34m=\u001b[0m \u001b[0;32mNone\u001b[0m\u001b[0;34m\u001b[0m\u001b[0;34m\u001b[0m\u001b[0m\n\u001b[0;32m--> 707\u001b[0;31m     \u001b[0;32mfor\u001b[0m \u001b[0mres\u001b[0m \u001b[0;32min\u001b[0m \u001b[0mgetaddrinfo\u001b[0m\u001b[0;34m(\u001b[0m\u001b[0mhost\u001b[0m\u001b[0;34m,\u001b[0m \u001b[0mport\u001b[0m\u001b[0;34m,\u001b[0m \u001b[0;36m0\u001b[0m\u001b[0;34m,\u001b[0m \u001b[0mSOCK_STREAM\u001b[0m\u001b[0;34m)\u001b[0m\u001b[0;34m:\u001b[0m\u001b[0;34m\u001b[0m\u001b[0;34m\u001b[0m\u001b[0m\n\u001b[0m\u001b[1;32m    708\u001b[0m         \u001b[0maf\u001b[0m\u001b[0;34m,\u001b[0m \u001b[0msocktype\u001b[0m\u001b[0;34m,\u001b[0m \u001b[0mproto\u001b[0m\u001b[0;34m,\u001b[0m \u001b[0mcanonname\u001b[0m\u001b[0;34m,\u001b[0m \u001b[0msa\u001b[0m \u001b[0;34m=\u001b[0m \u001b[0mres\u001b[0m\u001b[0;34m\u001b[0m\u001b[0;34m\u001b[0m\u001b[0m\n",
      "\u001b[0;32m~/opt/anaconda3/lib/python3.7/socket.py\u001b[0m in \u001b[0;36mgetaddrinfo\u001b[0;34m(host, port, family, type, proto, flags)\u001b[0m\n\u001b[1;32m    751\u001b[0m     \u001b[0maddrlist\u001b[0m \u001b[0;34m=\u001b[0m \u001b[0;34m[\u001b[0m\u001b[0;34m]\u001b[0m\u001b[0;34m\u001b[0m\u001b[0;34m\u001b[0m\u001b[0m\n\u001b[0;32m--> 752\u001b[0;31m     \u001b[0;32mfor\u001b[0m \u001b[0mres\u001b[0m \u001b[0;32min\u001b[0m \u001b[0m_socket\u001b[0m\u001b[0;34m.\u001b[0m\u001b[0mgetaddrinfo\u001b[0m\u001b[0;34m(\u001b[0m\u001b[0mhost\u001b[0m\u001b[0;34m,\u001b[0m \u001b[0mport\u001b[0m\u001b[0;34m,\u001b[0m \u001b[0mfamily\u001b[0m\u001b[0;34m,\u001b[0m \u001b[0mtype\u001b[0m\u001b[0;34m,\u001b[0m \u001b[0mproto\u001b[0m\u001b[0;34m,\u001b[0m \u001b[0mflags\u001b[0m\u001b[0;34m)\u001b[0m\u001b[0;34m:\u001b[0m\u001b[0;34m\u001b[0m\u001b[0;34m\u001b[0m\u001b[0m\n\u001b[0m\u001b[1;32m    753\u001b[0m         \u001b[0maf\u001b[0m\u001b[0;34m,\u001b[0m \u001b[0msocktype\u001b[0m\u001b[0;34m,\u001b[0m \u001b[0mproto\u001b[0m\u001b[0;34m,\u001b[0m \u001b[0mcanonname\u001b[0m\u001b[0;34m,\u001b[0m \u001b[0msa\u001b[0m \u001b[0;34m=\u001b[0m \u001b[0mres\u001b[0m\u001b[0;34m\u001b[0m\u001b[0;34m\u001b[0m\u001b[0m\n",
      "\u001b[0;31mgaierror\u001b[0m: [Errno 8] nodename nor servname provided, or not known",
      "\nDuring handling of the above exception, another exception occurred:\n",
      "\u001b[0;31mURLError\u001b[0m                                  Traceback (most recent call last)",
      "\u001b[0;32m<ipython-input-136-840711a176bf>\u001b[0m in \u001b[0;36m<module>\u001b[0;34m\u001b[0m\n\u001b[1;32m      8\u001b[0m \u001b[0;32mfor\u001b[0m \u001b[0mi\u001b[0m \u001b[0;32min\u001b[0m \u001b[0mrange\u001b[0m\u001b[0;34m(\u001b[0m\u001b[0ms_num\u001b[0m\u001b[0;34m,\u001b[0m\u001b[0me_num\u001b[0m\u001b[0;34m+\u001b[0m\u001b[0;36m1\u001b[0m\u001b[0;34m)\u001b[0m\u001b[0;34m:\u001b[0m\u001b[0;34m\u001b[0m\u001b[0;34m\u001b[0m\u001b[0m\n\u001b[1;32m      9\u001b[0m     \u001b[0murl\u001b[0m \u001b[0;34m=\u001b[0m \u001b[0;34m\"https://store.musinsa.com/app/reviews/lists?type=goods&year_date=2020&month_date=3&day_date=&max_rt=2020&min_rt=2018&brand=&page=\"\u001b[0m\u001b[0;34m+\u001b[0m\u001b[0mstr\u001b[0m\u001b[0;34m(\u001b[0m\u001b[0mi\u001b[0m\u001b[0;34m)\u001b[0m\u001b[0;34m+\u001b[0m\u001b[0;34m\"&sort=new&enc_val=&tag=&s_type=all&q=\"\u001b[0m\u001b[0;34m\u001b[0m\u001b[0;34m\u001b[0m\u001b[0m\n\u001b[0;32m---> 10\u001b[0;31m     \u001b[0mhtml\u001b[0m \u001b[0;34m=\u001b[0m \u001b[0murllib\u001b[0m\u001b[0;34m.\u001b[0m\u001b[0mrequest\u001b[0m\u001b[0;34m.\u001b[0m\u001b[0murlopen\u001b[0m\u001b[0;34m(\u001b[0m\u001b[0murl\u001b[0m\u001b[0;34m)\u001b[0m\u001b[0;34m\u001b[0m\u001b[0;34m\u001b[0m\u001b[0m\n\u001b[0m\u001b[1;32m     11\u001b[0m     \u001b[0mbs_obj\u001b[0m \u001b[0;34m=\u001b[0m \u001b[0mbs4\u001b[0m\u001b[0;34m.\u001b[0m\u001b[0mBeautifulSoup\u001b[0m\u001b[0;34m(\u001b[0m\u001b[0mhtml\u001b[0m\u001b[0;34m,\u001b[0m\u001b[0;34m\"html.parser\"\u001b[0m\u001b[0;34m)\u001b[0m\u001b[0;34m\u001b[0m\u001b[0;34m\u001b[0m\u001b[0m\n\u001b[1;32m     12\u001b[0m     \u001b[0mdiv\u001b[0m \u001b[0;34m=\u001b[0m \u001b[0mbs_obj\u001b[0m\u001b[0;34m.\u001b[0m\u001b[0mfindAll\u001b[0m\u001b[0;34m(\u001b[0m\u001b[0;34m\"div\"\u001b[0m\u001b[0;34m,\u001b[0m\u001b[0;34m{\u001b[0m\u001b[0;34m\"class\"\u001b[0m\u001b[0;34m:\u001b[0m\u001b[0;34m\"postContents container est_cont\"\u001b[0m\u001b[0;34m}\u001b[0m\u001b[0;34m)\u001b[0m\u001b[0;34m\u001b[0m\u001b[0;34m\u001b[0m\u001b[0m\n",
      "\u001b[0;32m~/opt/anaconda3/lib/python3.7/urllib/request.py\u001b[0m in \u001b[0;36murlopen\u001b[0;34m(url, data, timeout, cafile, capath, cadefault, context)\u001b[0m\n\u001b[1;32m    220\u001b[0m     \u001b[0;32melse\u001b[0m\u001b[0;34m:\u001b[0m\u001b[0;34m\u001b[0m\u001b[0;34m\u001b[0m\u001b[0m\n\u001b[1;32m    221\u001b[0m         \u001b[0mopener\u001b[0m \u001b[0;34m=\u001b[0m \u001b[0m_opener\u001b[0m\u001b[0;34m\u001b[0m\u001b[0;34m\u001b[0m\u001b[0m\n\u001b[0;32m--> 222\u001b[0;31m     \u001b[0;32mreturn\u001b[0m \u001b[0mopener\u001b[0m\u001b[0;34m.\u001b[0m\u001b[0mopen\u001b[0m\u001b[0;34m(\u001b[0m\u001b[0murl\u001b[0m\u001b[0;34m,\u001b[0m \u001b[0mdata\u001b[0m\u001b[0;34m,\u001b[0m \u001b[0mtimeout\u001b[0m\u001b[0;34m)\u001b[0m\u001b[0;34m\u001b[0m\u001b[0;34m\u001b[0m\u001b[0m\n\u001b[0m\u001b[1;32m    223\u001b[0m \u001b[0;34m\u001b[0m\u001b[0m\n\u001b[1;32m    224\u001b[0m \u001b[0;32mdef\u001b[0m \u001b[0minstall_opener\u001b[0m\u001b[0;34m(\u001b[0m\u001b[0mopener\u001b[0m\u001b[0;34m)\u001b[0m\u001b[0;34m:\u001b[0m\u001b[0;34m\u001b[0m\u001b[0;34m\u001b[0m\u001b[0m\n",
      "\u001b[0;32m~/opt/anaconda3/lib/python3.7/urllib/request.py\u001b[0m in \u001b[0;36mopen\u001b[0;34m(self, fullurl, data, timeout)\u001b[0m\n\u001b[1;32m    523\u001b[0m             \u001b[0mreq\u001b[0m \u001b[0;34m=\u001b[0m \u001b[0mmeth\u001b[0m\u001b[0;34m(\u001b[0m\u001b[0mreq\u001b[0m\u001b[0;34m)\u001b[0m\u001b[0;34m\u001b[0m\u001b[0;34m\u001b[0m\u001b[0m\n\u001b[1;32m    524\u001b[0m \u001b[0;34m\u001b[0m\u001b[0m\n\u001b[0;32m--> 525\u001b[0;31m         \u001b[0mresponse\u001b[0m \u001b[0;34m=\u001b[0m \u001b[0mself\u001b[0m\u001b[0;34m.\u001b[0m\u001b[0m_open\u001b[0m\u001b[0;34m(\u001b[0m\u001b[0mreq\u001b[0m\u001b[0;34m,\u001b[0m \u001b[0mdata\u001b[0m\u001b[0;34m)\u001b[0m\u001b[0;34m\u001b[0m\u001b[0;34m\u001b[0m\u001b[0m\n\u001b[0m\u001b[1;32m    526\u001b[0m \u001b[0;34m\u001b[0m\u001b[0m\n\u001b[1;32m    527\u001b[0m         \u001b[0;31m# post-process response\u001b[0m\u001b[0;34m\u001b[0m\u001b[0;34m\u001b[0m\u001b[0;34m\u001b[0m\u001b[0m\n",
      "\u001b[0;32m~/opt/anaconda3/lib/python3.7/urllib/request.py\u001b[0m in \u001b[0;36m_open\u001b[0;34m(self, req, data)\u001b[0m\n\u001b[1;32m    541\u001b[0m         \u001b[0mprotocol\u001b[0m \u001b[0;34m=\u001b[0m \u001b[0mreq\u001b[0m\u001b[0;34m.\u001b[0m\u001b[0mtype\u001b[0m\u001b[0;34m\u001b[0m\u001b[0;34m\u001b[0m\u001b[0m\n\u001b[1;32m    542\u001b[0m         result = self._call_chain(self.handle_open, protocol, protocol +\n\u001b[0;32m--> 543\u001b[0;31m                                   '_open', req)\n\u001b[0m\u001b[1;32m    544\u001b[0m         \u001b[0;32mif\u001b[0m \u001b[0mresult\u001b[0m\u001b[0;34m:\u001b[0m\u001b[0;34m\u001b[0m\u001b[0;34m\u001b[0m\u001b[0m\n\u001b[1;32m    545\u001b[0m             \u001b[0;32mreturn\u001b[0m \u001b[0mresult\u001b[0m\u001b[0;34m\u001b[0m\u001b[0;34m\u001b[0m\u001b[0m\n",
      "\u001b[0;32m~/opt/anaconda3/lib/python3.7/urllib/request.py\u001b[0m in \u001b[0;36m_call_chain\u001b[0;34m(self, chain, kind, meth_name, *args)\u001b[0m\n\u001b[1;32m    501\u001b[0m         \u001b[0;32mfor\u001b[0m \u001b[0mhandler\u001b[0m \u001b[0;32min\u001b[0m \u001b[0mhandlers\u001b[0m\u001b[0;34m:\u001b[0m\u001b[0;34m\u001b[0m\u001b[0;34m\u001b[0m\u001b[0m\n\u001b[1;32m    502\u001b[0m             \u001b[0mfunc\u001b[0m \u001b[0;34m=\u001b[0m \u001b[0mgetattr\u001b[0m\u001b[0;34m(\u001b[0m\u001b[0mhandler\u001b[0m\u001b[0;34m,\u001b[0m \u001b[0mmeth_name\u001b[0m\u001b[0;34m)\u001b[0m\u001b[0;34m\u001b[0m\u001b[0;34m\u001b[0m\u001b[0m\n\u001b[0;32m--> 503\u001b[0;31m             \u001b[0mresult\u001b[0m \u001b[0;34m=\u001b[0m \u001b[0mfunc\u001b[0m\u001b[0;34m(\u001b[0m\u001b[0;34m*\u001b[0m\u001b[0margs\u001b[0m\u001b[0;34m)\u001b[0m\u001b[0;34m\u001b[0m\u001b[0;34m\u001b[0m\u001b[0m\n\u001b[0m\u001b[1;32m    504\u001b[0m             \u001b[0;32mif\u001b[0m \u001b[0mresult\u001b[0m \u001b[0;32mis\u001b[0m \u001b[0;32mnot\u001b[0m \u001b[0;32mNone\u001b[0m\u001b[0;34m:\u001b[0m\u001b[0;34m\u001b[0m\u001b[0;34m\u001b[0m\u001b[0m\n\u001b[1;32m    505\u001b[0m                 \u001b[0;32mreturn\u001b[0m \u001b[0mresult\u001b[0m\u001b[0;34m\u001b[0m\u001b[0;34m\u001b[0m\u001b[0m\n",
      "\u001b[0;32m~/opt/anaconda3/lib/python3.7/urllib/request.py\u001b[0m in \u001b[0;36mhttps_open\u001b[0;34m(self, req)\u001b[0m\n\u001b[1;32m   1360\u001b[0m         \u001b[0;32mdef\u001b[0m \u001b[0mhttps_open\u001b[0m\u001b[0;34m(\u001b[0m\u001b[0mself\u001b[0m\u001b[0;34m,\u001b[0m \u001b[0mreq\u001b[0m\u001b[0;34m)\u001b[0m\u001b[0;34m:\u001b[0m\u001b[0;34m\u001b[0m\u001b[0;34m\u001b[0m\u001b[0m\n\u001b[1;32m   1361\u001b[0m             return self.do_open(http.client.HTTPSConnection, req,\n\u001b[0;32m-> 1362\u001b[0;31m                 context=self._context, check_hostname=self._check_hostname)\n\u001b[0m\u001b[1;32m   1363\u001b[0m \u001b[0;34m\u001b[0m\u001b[0m\n\u001b[1;32m   1364\u001b[0m         \u001b[0mhttps_request\u001b[0m \u001b[0;34m=\u001b[0m \u001b[0mAbstractHTTPHandler\u001b[0m\u001b[0;34m.\u001b[0m\u001b[0mdo_request_\u001b[0m\u001b[0;34m\u001b[0m\u001b[0;34m\u001b[0m\u001b[0m\n",
      "\u001b[0;32m~/opt/anaconda3/lib/python3.7/urllib/request.py\u001b[0m in \u001b[0;36mdo_open\u001b[0;34m(self, http_class, req, **http_conn_args)\u001b[0m\n\u001b[1;32m   1319\u001b[0m                           encode_chunked=req.has_header('Transfer-encoding'))\n\u001b[1;32m   1320\u001b[0m             \u001b[0;32mexcept\u001b[0m \u001b[0mOSError\u001b[0m \u001b[0;32mas\u001b[0m \u001b[0merr\u001b[0m\u001b[0;34m:\u001b[0m \u001b[0;31m# timeout error\u001b[0m\u001b[0;34m\u001b[0m\u001b[0;34m\u001b[0m\u001b[0m\n\u001b[0;32m-> 1321\u001b[0;31m                 \u001b[0;32mraise\u001b[0m \u001b[0mURLError\u001b[0m\u001b[0;34m(\u001b[0m\u001b[0merr\u001b[0m\u001b[0;34m)\u001b[0m\u001b[0;34m\u001b[0m\u001b[0;34m\u001b[0m\u001b[0m\n\u001b[0m\u001b[1;32m   1322\u001b[0m             \u001b[0mr\u001b[0m \u001b[0;34m=\u001b[0m \u001b[0mh\u001b[0m\u001b[0;34m.\u001b[0m\u001b[0mgetresponse\u001b[0m\u001b[0;34m(\u001b[0m\u001b[0;34m)\u001b[0m\u001b[0;34m\u001b[0m\u001b[0;34m\u001b[0m\u001b[0m\n\u001b[1;32m   1323\u001b[0m         \u001b[0;32mexcept\u001b[0m\u001b[0;34m:\u001b[0m\u001b[0;34m\u001b[0m\u001b[0;34m\u001b[0m\u001b[0m\n",
      "\u001b[0;31mURLError\u001b[0m: <urlopen error [Errno 8] nodename nor servname provided, or not known>"
     ]
    }
   ],
   "source": [
    "import urllib.request\n",
    "import bs4\n",
    "s_num = int(input())\n",
    "e_num = int(input())\n",
    "now = datetime.datetime.now()\n",
    "print(now)\n",
    "review = []\n",
    "for i in range(s_num,e_num+1):\n",
    "    url = \"https://store.musinsa.com/app/reviews/lists?type=goods&year_date=2020&month_date=3&day_date=&max_rt=2020&min_rt=2018&brand=&page=\"+str(i)+\"&sort=new&enc_val=&tag=&s_type=all&q=\"\n",
    "    html = urllib.request.urlopen(url)\n",
    "    bs_obj = bs4.BeautifulSoup(html,\"html.parser\")\n",
    "    div = bs_obj.findAll(\"div\",{\"class\":\"postContents container est_cont\"})\n",
    "    target = ['2','4','10']\n",
    "    for i in div:\n",
    "        div = i.find(\"div\",{\"class\":\"n-score\"})\n",
    "        if div.find(\"span\")[\"class\"][1][5:] in target:\n",
    "            empty = []\n",
    "            span = i.find(\"span\",{\"class\":\"content-review\"})\n",
    "            empty.append(span.text[14:].strip('\\n').strip('\\t'))\n",
    "            if div.find(\"span\")[\"class\"][1][5:] == '10':\n",
    "                empty.append(1)\n",
    "            else:\n",
    "                empty.append(0)\n",
    "            review.append(empty)\n",
    "        \n",
    "later = datetime.datetime.now()\n",
    "\n",
    "print(later)\n",
    "print(review)"
   ]
  },
  {
   "cell_type": "markdown",
   "metadata": {},
   "source": [
    "## 표본 추출\n",
    "부정 리뷰수가 압도적으로 적기때문에 불러온 댓글 중 부정댓글은 전부 사용하고 긍정댓글은 너무 많기에 부정댓글 수만큼만 임의추출"
   ]
  },
  {
   "cell_type": "code",
   "execution_count": 135,
   "metadata": {},
   "outputs": [
    {
     "name": "stdout",
     "output_type": "stream",
     "text": [
      "78\n"
     ]
    }
   ],
   "source": [
    "import csv\n",
    "import re\n",
    "neg = []\n",
    "pos = []\n",
    "\n",
    "f = open('review_final.csv','a',encoding='utf-8-sig')\n",
    "wr = csv.writer(f)\n",
    "for i in review:\n",
    "    pattern = '([ㄱ-ㅎㅏ-ㅣ]+)' #한글 자모음 제거\n",
    "    text = re.sub(pattern=pattern, repl=' ', string=i[0])\n",
    "    pattern = '[^\\w\\s]' #특수기호 제거\n",
    "    text = re.sub(pattern=pattern, repl=' ', string=text)\n",
    "    \n",
    "for i in review:\n",
    "    if i[1] == 0:\n",
    "        neg.append(i)\n",
    "    else:\n",
    "        pos.append(i)\n",
    "pos_choice = random.sample(pos,len(neg))\n",
    "\n",
    "for i in neg:\n",
    "    wr.writerow(i)\n",
    "\n",
    "for i in pos_choice:\n",
    "    wr.writerow(i)\n",
    "    \n",
    "f.close()\n",
    "print(len(neg))"
   ]
  },
  {
   "cell_type": "markdown",
   "metadata": {},
   "source": [
    "## 저장내용 불러오기"
   ]
  },
  {
   "cell_type": "code",
   "execution_count": 137,
   "metadata": {},
   "outputs": [
    {
     "data": {
      "text/plain": [
       "1818"
      ]
     },
     "execution_count": 137,
     "metadata": {},
     "output_type": "execute_result"
    }
   ],
   "source": [
    "import csv\n",
    "new_t = []\n",
    "f = open('review_final.csv','r',encoding='utf-8-sig')\n",
    "rdf = csv.reader(f)\n",
    "\n",
    "for i in rdf:\n",
    "    new_t.append(i)\n",
    "\n",
    "len(new_t)"
   ]
  },
  {
   "cell_type": "markdown",
   "metadata": {},
   "source": [
    "## 단어 토큰화"
   ]
  },
  {
   "cell_type": "code",
   "execution_count": 139,
   "metadata": {},
   "outputs": [
    {
     "name": "stdout",
     "output_type": "stream",
     "text": [
      "\n"
     ]
    }
   ],
   "source": [
    "from konlpy.tag import Okt\n",
    "import nltk\n",
    "import re\n",
    "\n",
    "\n",
    "okt = Okt()\n",
    "\n",
    "def modify(text):\n",
    "    pattern = '([ㄱ-ㅎㅏ-ㅣ]+)' #한글 자모음 제거\n",
    "    text = re.sub(pattern=pattern, repl=' ', string=text)\n",
    "    pattern = '[^\\w\\s]' #특수기호 제거\n",
    "    text = re.sub(pattern=pattern, repl=' ', string=text)\n",
    "    return text\n",
    "\n",
    "def tokenize(doc):\n",
    "    return ['/'.join(t) for t in okt.pos(doc,norm=True,stem=True)]\n",
    "\n",
    "\n",
    "\n",
    "training = [(tokenize(modify(row[0])),row[1]) for row in new_t]#[('단어/형태',...,0 or 1)]\n",
    "\n",
    "print()\n",
    "token = [t for d in training for t in d[0]] #단어들만 따로 모음\n",
    "text = nltk.Text(token)"
   ]
  },
  {
   "cell_type": "markdown",
   "metadata": {},
   "source": [
    "## 최빈값 추출 및 단어 빈도 수 저장"
   ]
  },
  {
   "cell_type": "code",
   "execution_count": 140,
   "metadata": {},
   "outputs": [],
   "source": [
    "selected_words = [f[0] for f in text.vocab().most_common(3002)] #more랑 \\n때문에 두개 더 추가해야함\n",
    "selected_words.remove('\\n/Foreign')\n",
    "selected_words.remove('more/Alpha')\n",
    "def term_frequency(doc):\n",
    "    return [doc.count(word) for word in selected_words]\n",
    "\n"
   ]
  },
  {
   "cell_type": "markdown",
   "metadata": {},
   "source": [
    "## training setting"
   ]
  },
  {
   "cell_type": "code",
   "execution_count": 141,
   "metadata": {},
   "outputs": [],
   "source": [
    "train_x = [term_frequency(d) for d,_ in training]\n",
    "\n",
    "#test_x = [term_frequency(d) for d,_in test]\n",
    "\n",
    "train_y = [c for _,c in training]\n",
    "\n",
    "#test_y = [c for _,c in test]"
   ]
  },
  {
   "cell_type": "code",
   "execution_count": 142,
   "metadata": {},
   "outputs": [],
   "source": [
    "import numpy as np\n",
    "x_train = np.asarray(train_x).astype('float32')\n",
    "#x_test = np.asarray(test_x).astype('float32')\n",
    "y_train = np.asarray(train_y).astype('float32')\n",
    "#y_test = np.asarray(test_y).astype('float32')"
   ]
  },
  {
   "cell_type": "markdown",
   "metadata": {},
   "source": [
    "## 학습"
   ]
  },
  {
   "cell_type": "code",
   "execution_count": 143,
   "metadata": {},
   "outputs": [
    {
     "name": "stderr",
     "output_type": "stream",
     "text": [
      "/Users/leesangyun/opt/anaconda3/lib/python3.7/site-packages/tensorflow/python/framework/dtypes.py:526: FutureWarning: Passing (type, 1) or '1type' as a synonym of type is deprecated; in a future version of numpy, it will be understood as (type, (1,)) / '(1,)type'.\n",
      "  _np_qint8 = np.dtype([(\"qint8\", np.int8, 1)])\n",
      "/Users/leesangyun/opt/anaconda3/lib/python3.7/site-packages/tensorflow/python/framework/dtypes.py:527: FutureWarning: Passing (type, 1) or '1type' as a synonym of type is deprecated; in a future version of numpy, it will be understood as (type, (1,)) / '(1,)type'.\n",
      "  _np_quint8 = np.dtype([(\"quint8\", np.uint8, 1)])\n",
      "/Users/leesangyun/opt/anaconda3/lib/python3.7/site-packages/tensorflow/python/framework/dtypes.py:528: FutureWarning: Passing (type, 1) or '1type' as a synonym of type is deprecated; in a future version of numpy, it will be understood as (type, (1,)) / '(1,)type'.\n",
      "  _np_qint16 = np.dtype([(\"qint16\", np.int16, 1)])\n",
      "/Users/leesangyun/opt/anaconda3/lib/python3.7/site-packages/tensorflow/python/framework/dtypes.py:529: FutureWarning: Passing (type, 1) or '1type' as a synonym of type is deprecated; in a future version of numpy, it will be understood as (type, (1,)) / '(1,)type'.\n",
      "  _np_quint16 = np.dtype([(\"quint16\", np.uint16, 1)])\n",
      "/Users/leesangyun/opt/anaconda3/lib/python3.7/site-packages/tensorflow/python/framework/dtypes.py:530: FutureWarning: Passing (type, 1) or '1type' as a synonym of type is deprecated; in a future version of numpy, it will be understood as (type, (1,)) / '(1,)type'.\n",
      "  _np_qint32 = np.dtype([(\"qint32\", np.int32, 1)])\n",
      "/Users/leesangyun/opt/anaconda3/lib/python3.7/site-packages/tensorflow/python/framework/dtypes.py:535: FutureWarning: Passing (type, 1) or '1type' as a synonym of type is deprecated; in a future version of numpy, it will be understood as (type, (1,)) / '(1,)type'.\n",
      "  np_resource = np.dtype([(\"resource\", np.ubyte, 1)])\n"
     ]
    },
    {
     "name": "stdout",
     "output_type": "stream",
     "text": [
      "WARNING:tensorflow:From /Users/leesangyun/opt/anaconda3/lib/python3.7/site-packages/tensorflow/python/ops/resource_variable_ops.py:435: colocate_with (from tensorflow.python.framework.ops) is deprecated and will be removed in a future version.\n",
      "Instructions for updating:\n",
      "Colocations handled automatically by placer.\n",
      "WARNING:tensorflow:From /Users/leesangyun/opt/anaconda3/lib/python3.7/site-packages/tensorflow/python/ops/math_ops.py:3066: to_int32 (from tensorflow.python.ops.math_ops) is deprecated and will be removed in a future version.\n",
      "Instructions for updating:\n",
      "Use tf.cast instead.\n",
      "Epoch 1/150\n",
      "1818/1818 [==============================] - 1s 368us/sample - loss: 0.6735 - binary_accuracy: 0.6870\n",
      "Epoch 2/150\n",
      "1818/1818 [==============================] - 0s 21us/sample - loss: 0.5756 - binary_accuracy: 0.8911\n",
      "Epoch 3/150\n",
      "1818/1818 [==============================] - 0s 25us/sample - loss: 0.4537 - binary_accuracy: 0.9274\n",
      "Epoch 4/150\n",
      "1818/1818 [==============================] - 0s 18us/sample - loss: 0.3436 - binary_accuracy: 0.9444\n",
      "Epoch 5/150\n",
      "1818/1818 [==============================] - 0s 117us/sample - loss: 0.2634 - binary_accuracy: 0.9560\n",
      "Epoch 6/150\n",
      "1818/1818 [==============================] - 0s 19us/sample - loss: 0.2065 - binary_accuracy: 0.9637\n",
      "Epoch 7/150\n",
      "1818/1818 [==============================] - 0s 19us/sample - loss: 0.1649 - binary_accuracy: 0.9714\n",
      "Epoch 8/150\n",
      "1818/1818 [==============================] - 0s 20us/sample - loss: 0.1342 - binary_accuracy: 0.9758\n",
      "Epoch 9/150\n",
      "1818/1818 [==============================] - 0s 22us/sample - loss: 0.1097 - binary_accuracy: 0.9807\n",
      "Epoch 10/150\n",
      "1818/1818 [==============================] - 0s 21us/sample - loss: 0.0901 - binary_accuracy: 0.9846\n",
      "Epoch 11/150\n",
      "1818/1818 [==============================] - 0s 22us/sample - loss: 0.0753 - binary_accuracy: 0.9879\n",
      "Epoch 12/150\n",
      "1818/1818 [==============================] - 0s 21us/sample - loss: 0.0620 - binary_accuracy: 0.9895\n",
      "Epoch 13/150\n",
      "1818/1818 [==============================] - 0s 22us/sample - loss: 0.0510 - binary_accuracy: 0.9923\n",
      "Epoch 14/150\n",
      "1818/1818 [==============================] - 0s 22us/sample - loss: 0.0424 - binary_accuracy: 0.9939\n",
      "Epoch 15/150\n",
      "1818/1818 [==============================] - 0s 21us/sample - loss: 0.0355 - binary_accuracy: 0.9967\n",
      "Epoch 16/150\n",
      "1818/1818 [==============================] - 0s 21us/sample - loss: 0.0294 - binary_accuracy: 0.9967\n",
      "Epoch 17/150\n",
      "1818/1818 [==============================] - 0s 21us/sample - loss: 0.0245 - binary_accuracy: 0.9978\n",
      "Epoch 18/150\n",
      "1818/1818 [==============================] - 0s 21us/sample - loss: 0.0197 - binary_accuracy: 0.9978\n",
      "Epoch 19/150\n",
      "1818/1818 [==============================] - 0s 22us/sample - loss: 0.0163 - binary_accuracy: 0.9983\n",
      "Epoch 20/150\n",
      "1818/1818 [==============================] - 0s 20us/sample - loss: 0.0134 - binary_accuracy: 0.9983\n",
      "Epoch 21/150\n",
      "1818/1818 [==============================] - 0s 18us/sample - loss: 0.0108 - binary_accuracy: 0.9989\n",
      "Epoch 22/150\n",
      "1818/1818 [==============================] - 0s 18us/sample - loss: 0.0088 - binary_accuracy: 0.9994\n",
      "Epoch 23/150\n",
      "1818/1818 [==============================] - 0s 19us/sample - loss: 0.0073 - binary_accuracy: 0.9994\n",
      "Epoch 24/150\n",
      "1818/1818 [==============================] - 0s 20us/sample - loss: 0.0057 - binary_accuracy: 1.0000\n",
      "Epoch 25/150\n",
      "1818/1818 [==============================] - 0s 18us/sample - loss: 0.0046 - binary_accuracy: 1.0000\n",
      "Epoch 26/150\n",
      "1818/1818 [==============================] - 0s 20us/sample - loss: 0.0037 - binary_accuracy: 1.0000\n",
      "Epoch 27/150\n",
      "1818/1818 [==============================] - 0s 18us/sample - loss: 0.0030 - binary_accuracy: 1.0000\n",
      "Epoch 28/150\n",
      "1818/1818 [==============================] - 0s 18us/sample - loss: 0.0024 - binary_accuracy: 1.0000\n",
      "Epoch 29/150\n",
      "1818/1818 [==============================] - 0s 18us/sample - loss: 0.0019 - binary_accuracy: 1.0000\n",
      "Epoch 30/150\n",
      "1818/1818 [==============================] - 0s 18us/sample - loss: 0.0016 - binary_accuracy: 1.0000\n",
      "Epoch 31/150\n",
      "1818/1818 [==============================] - 0s 17us/sample - loss: 0.0013 - binary_accuracy: 1.0000\n",
      "Epoch 32/150\n",
      "1818/1818 [==============================] - 0s 18us/sample - loss: 0.0011 - binary_accuracy: 1.0000\n",
      "Epoch 33/150\n",
      "1818/1818 [==============================] - 0s 18us/sample - loss: 8.0249e-04 - binary_accuracy: 1.0000\n",
      "Epoch 34/150\n",
      "1818/1818 [==============================] - 0s 17us/sample - loss: 6.6515e-04 - binary_accuracy: 1.0000\n",
      "Epoch 35/150\n",
      "1818/1818 [==============================] - 0s 17us/sample - loss: 5.4036e-04 - binary_accuracy: 1.0000\n",
      "Epoch 36/150\n",
      "1818/1818 [==============================] - 0s 19us/sample - loss: 4.3442e-04 - binary_accuracy: 1.0000\n",
      "Epoch 37/150\n",
      "1818/1818 [==============================] - 0s 19us/sample - loss: 3.4657e-04 - binary_accuracy: 1.0000\n",
      "Epoch 38/150\n",
      "1818/1818 [==============================] - 0s 19us/sample - loss: 2.7612e-04 - binary_accuracy: 1.0000\n",
      "Epoch 39/150\n",
      "1818/1818 [==============================] - 0s 18us/sample - loss: 2.4035e-04 - binary_accuracy: 1.0000\n",
      "Epoch 40/150\n",
      "1818/1818 [==============================] - 0s 18us/sample - loss: 1.8204e-04 - binary_accuracy: 1.0000\n",
      "Epoch 41/150\n",
      "1818/1818 [==============================] - 0s 18us/sample - loss: 1.4403e-04 - binary_accuracy: 1.0000\n",
      "Epoch 42/150\n",
      "1818/1818 [==============================] - 0s 18us/sample - loss: 1.1648e-04 - binary_accuracy: 1.0000\n",
      "Epoch 43/150\n",
      "1818/1818 [==============================] - 0s 17us/sample - loss: 9.3926e-05 - binary_accuracy: 1.0000\n",
      "Epoch 44/150\n",
      "1818/1818 [==============================] - 0s 18us/sample - loss: 7.6303e-05 - binary_accuracy: 1.0000\n",
      "Epoch 45/150\n",
      "1818/1818 [==============================] - 0s 18us/sample - loss: 6.3040e-05 - binary_accuracy: 1.0000\n",
      "Epoch 46/150\n",
      "1818/1818 [==============================] - 0s 19us/sample - loss: 5.0102e-05 - binary_accuracy: 1.0000\n",
      "Epoch 47/150\n",
      "1818/1818 [==============================] - 0s 19us/sample - loss: 4.1608e-05 - binary_accuracy: 1.0000\n",
      "Epoch 48/150\n",
      "1818/1818 [==============================] - 0s 19us/sample - loss: 3.2782e-05 - binary_accuracy: 1.0000\n",
      "Epoch 49/150\n",
      "1818/1818 [==============================] - 0s 18us/sample - loss: 2.7691e-05 - binary_accuracy: 1.0000\n",
      "Epoch 50/150\n",
      "1818/1818 [==============================] - 0s 19us/sample - loss: 2.1574e-05 - binary_accuracy: 1.0000\n",
      "Epoch 51/150\n",
      "1818/1818 [==============================] - 0s 19us/sample - loss: 1.7981e-05 - binary_accuracy: 1.0000\n",
      "Epoch 52/150\n",
      "1818/1818 [==============================] - 0s 18us/sample - loss: 1.4439e-05 - binary_accuracy: 1.0000\n",
      "Epoch 53/150\n",
      "1818/1818 [==============================] - 0s 19us/sample - loss: 1.1647e-05 - binary_accuracy: 1.0000\n",
      "Epoch 54/150\n",
      "1818/1818 [==============================] - 0s 18us/sample - loss: 9.6293e-06 - binary_accuracy: 1.0000\n",
      "Epoch 55/150\n",
      "1818/1818 [==============================] - 0s 18us/sample - loss: 7.8060e-06 - binary_accuracy: 1.0000\n",
      "Epoch 56/150\n",
      "1818/1818 [==============================] - 0s 18us/sample - loss: 6.5473e-06 - binary_accuracy: 1.0000\n",
      "Epoch 57/150\n",
      "1818/1818 [==============================] - 0s 80us/sample - loss: 5.3094e-06 - binary_accuracy: 1.0000\n",
      "Epoch 58/150\n",
      "1818/1818 [==============================] - 0s 19us/sample - loss: 4.3820e-06 - binary_accuracy: 1.0000\n",
      "Epoch 59/150\n",
      "1818/1818 [==============================] - 0s 18us/sample - loss: 3.5600e-06 - binary_accuracy: 1.0000\n",
      "Epoch 60/150\n",
      "1818/1818 [==============================] - 0s 18us/sample - loss: 3.0682e-06 - binary_accuracy: 1.0000\n",
      "Epoch 61/150\n",
      "1818/1818 [==============================] - 0s 18us/sample - loss: 2.4661e-06 - binary_accuracy: 1.0000\n",
      "Epoch 62/150\n",
      "1818/1818 [==============================] - 0s 18us/sample - loss: 2.1480e-06 - binary_accuracy: 1.0000\n",
      "Epoch 63/150\n",
      "1818/1818 [==============================] - 0s 18us/sample - loss: 1.7520e-06 - binary_accuracy: 1.0000\n",
      "Epoch 64/150\n",
      "1818/1818 [==============================] - 0s 18us/sample - loss: 1.4869e-06 - binary_accuracy: 1.0000\n",
      "Epoch 65/150\n",
      "1818/1818 [==============================] - 0s 19us/sample - loss: 1.2679e-06 - binary_accuracy: 1.0000\n",
      "Epoch 66/150\n"
     ]
    },
    {
     "name": "stdout",
     "output_type": "stream",
     "text": [
      "1818/1818 [==============================] - 0s 18us/sample - loss: 1.0627e-06 - binary_accuracy: 1.0000\n",
      "Epoch 67/150\n",
      "1818/1818 [==============================] - 0s 18us/sample - loss: 9.2388e-07 - binary_accuracy: 1.0000\n",
      "Epoch 68/150\n",
      "1818/1818 [==============================] - 0s 18us/sample - loss: 7.9859e-07 - binary_accuracy: 1.0000\n",
      "Epoch 69/150\n",
      "1818/1818 [==============================] - 0s 19us/sample - loss: 7.0138e-07 - binary_accuracy: 1.0000\n",
      "Epoch 70/150\n",
      "1818/1818 [==============================] - 0s 19us/sample - loss: 6.1474e-07 - binary_accuracy: 1.0000\n",
      "Epoch 71/150\n",
      "1818/1818 [==============================] - 0s 18us/sample - loss: 5.4895e-07 - binary_accuracy: 1.0000\n",
      "Epoch 72/150\n",
      "1818/1818 [==============================] - 0s 18us/sample - loss: 4.7726e-07 - binary_accuracy: 1.0000\n",
      "Epoch 73/150\n",
      "1818/1818 [==============================] - 0s 19us/sample - loss: 4.3946e-07 - binary_accuracy: 1.0000\n",
      "Epoch 74/150\n",
      "1818/1818 [==============================] - 0s 18us/sample - loss: 3.8653e-07 - binary_accuracy: 1.0000\n",
      "Epoch 75/150\n",
      "1818/1818 [==============================] - 0s 18us/sample - loss: 3.5294e-07 - binary_accuracy: 1.0000\n",
      "Epoch 76/150\n",
      "1818/1818 [==============================] - 0s 18us/sample - loss: 3.2291e-07 - binary_accuracy: 1.0000\n",
      "Epoch 77/150\n",
      "1818/1818 [==============================] - 0s 18us/sample - loss: 2.9964e-07 - binary_accuracy: 1.0000\n",
      "Epoch 78/150\n",
      "1818/1818 [==============================] - 0s 17us/sample - loss: 2.7289e-07 - binary_accuracy: 1.0000\n",
      "Epoch 79/150\n",
      "1818/1818 [==============================] - 0s 18us/sample - loss: 2.5341e-07 - binary_accuracy: 1.0000\n",
      "Epoch 80/150\n",
      "1818/1818 [==============================] - 0s 18us/sample - loss: 2.3761e-07 - binary_accuracy: 1.0000\n",
      "Epoch 81/150\n",
      "1818/1818 [==============================] - 0s 18us/sample - loss: 2.2276e-07 - binary_accuracy: 1.0000\n",
      "Epoch 82/150\n",
      "1818/1818 [==============================] - 0s 19us/sample - loss: 2.1102e-07 - binary_accuracy: 1.0000\n",
      "Epoch 83/150\n",
      "1818/1818 [==============================] - 0s 18us/sample - loss: 2.0164e-07 - binary_accuracy: 1.0000\n",
      "Epoch 84/150\n",
      "1818/1818 [==============================] - 0s 19us/sample - loss: 1.9227e-07 - binary_accuracy: 1.0000\n",
      "Epoch 85/150\n",
      "1818/1818 [==============================] - 0s 18us/sample - loss: 1.8176e-07 - binary_accuracy: 1.0000\n",
      "Epoch 86/150\n",
      "1818/1818 [==============================] - 0s 18us/sample - loss: 1.7566e-07 - binary_accuracy: 1.0000\n",
      "Epoch 87/150\n",
      "1818/1818 [==============================] - 0s 18us/sample - loss: 1.6902e-07 - binary_accuracy: 1.0000\n",
      "Epoch 88/150\n",
      "1818/1818 [==============================] - 0s 18us/sample - loss: 1.6281e-07 - binary_accuracy: 1.0000\n",
      "Epoch 89/150\n",
      "1818/1818 [==============================] - 0s 18us/sample - loss: 1.5971e-07 - binary_accuracy: 1.0000\n",
      "Epoch 90/150\n",
      "1818/1818 [==============================] - 0s 18us/sample - loss: 1.5469e-07 - binary_accuracy: 1.0000\n",
      "Epoch 91/150\n",
      "1818/1818 [==============================] - 0s 18us/sample - loss: 1.5130e-07 - binary_accuracy: 1.0000\n",
      "Epoch 92/150\n",
      "1818/1818 [==============================] - 0s 18us/sample - loss: 1.4687e-07 - binary_accuracy: 1.0000\n",
      "Epoch 93/150\n",
      "1818/1818 [==============================] - 0s 18us/sample - loss: 1.4472e-07 - binary_accuracy: 1.0000\n",
      "Epoch 94/150\n",
      "1818/1818 [==============================] - 0s 19us/sample - loss: 1.4092e-07 - binary_accuracy: 1.0000\n",
      "Epoch 95/150\n",
      "1818/1818 [==============================] - 0s 19us/sample - loss: 1.3973e-07 - binary_accuracy: 1.0000\n",
      "Epoch 96/150\n",
      "1818/1818 [==============================] - 0s 18us/sample - loss: 1.3755e-07 - binary_accuracy: 1.0000\n",
      "Epoch 97/150\n",
      "1818/1818 [==============================] - 0s 18us/sample - loss: 1.3551e-07 - binary_accuracy: 1.0000\n",
      "Epoch 98/150\n",
      "1818/1818 [==============================] - 0s 18us/sample - loss: 1.3367e-07 - binary_accuracy: 1.0000\n",
      "Epoch 99/150\n",
      "1818/1818 [==============================] - 0s 19us/sample - loss: 1.3181e-07 - binary_accuracy: 1.0000\n",
      "Epoch 100/150\n",
      "1818/1818 [==============================] - 0s 17us/sample - loss: 1.3081e-07 - binary_accuracy: 1.0000\n",
      "Epoch 101/150\n",
      "1818/1818 [==============================] - 0s 18us/sample - loss: 1.2885e-07 - binary_accuracy: 1.0000\n",
      "Epoch 102/150\n",
      "1818/1818 [==============================] - 0s 18us/sample - loss: 1.2807e-07 - binary_accuracy: 1.0000\n",
      "Epoch 103/150\n",
      "1818/1818 [==============================] - 0s 19us/sample - loss: 1.2678e-07 - binary_accuracy: 1.0000\n",
      "Epoch 104/150\n",
      "1818/1818 [==============================] - 0s 18us/sample - loss: 1.2576e-07 - binary_accuracy: 1.0000\n",
      "Epoch 105/150\n",
      "1818/1818 [==============================] - 0s 18us/sample - loss: 1.2563e-07 - binary_accuracy: 1.0000\n",
      "Epoch 106/150\n",
      "1818/1818 [==============================] - 0s 18us/sample - loss: 1.2458e-07 - binary_accuracy: 1.0000\n",
      "Epoch 107/150\n",
      "1818/1818 [==============================] - 0s 18us/sample - loss: 1.2398e-07 - binary_accuracy: 1.0000\n",
      "Epoch 108/150\n",
      "1818/1818 [==============================] - 0s 18us/sample - loss: 1.2298e-07 - binary_accuracy: 1.0000\n",
      "Epoch 109/150\n",
      "1818/1818 [==============================] - 0s 17us/sample - loss: 1.2222e-07 - binary_accuracy: 1.0000\n",
      "Epoch 110/150\n",
      "1818/1818 [==============================] - 0s 91us/sample - loss: 1.2186e-07 - binary_accuracy: 1.0000\n",
      "Epoch 111/150\n",
      "1818/1818 [==============================] - 0s 41us/sample - loss: 1.2083e-07 - binary_accuracy: 1.0000\n",
      "Epoch 112/150\n",
      "1818/1818 [==============================] - 0s 19us/sample - loss: 1.2040e-07 - binary_accuracy: 1.0000\n",
      "Epoch 113/150\n",
      "1818/1818 [==============================] - 0s 19us/sample - loss: 1.2007e-07 - binary_accuracy: 1.0000\n",
      "Epoch 114/150\n",
      "1818/1818 [==============================] - 0s 19us/sample - loss: 1.1937e-07 - binary_accuracy: 1.0000\n",
      "Epoch 115/150\n",
      "1818/1818 [==============================] - 0s 19us/sample - loss: 1.1877e-07 - binary_accuracy: 1.0000\n",
      "Epoch 116/150\n",
      "1818/1818 [==============================] - 0s 19us/sample - loss: 1.1855e-07 - binary_accuracy: 1.0000\n",
      "Epoch 117/150\n",
      "1818/1818 [==============================] - 0s 18us/sample - loss: 1.1827e-07 - binary_accuracy: 1.0000\n",
      "Epoch 118/150\n",
      "1818/1818 [==============================] - 0s 19us/sample - loss: 1.1783e-07 - binary_accuracy: 1.0000\n",
      "Epoch 119/150\n",
      "1818/1818 [==============================] - 0s 19us/sample - loss: 1.1783e-07 - binary_accuracy: 1.0000\n",
      "Epoch 120/150\n",
      "1818/1818 [==============================] - 0s 18us/sample - loss: 1.1729e-07 - binary_accuracy: 1.0000\n",
      "Epoch 121/150\n",
      "1818/1818 [==============================] - 0s 19us/sample - loss: 1.1678e-07 - binary_accuracy: 1.0000\n",
      "Epoch 122/150\n",
      "1818/1818 [==============================] - 0s 19us/sample - loss: 1.1661e-07 - binary_accuracy: 1.0000\n",
      "Epoch 123/150\n",
      "1818/1818 [==============================] - 0s 19us/sample - loss: 1.1602e-07 - binary_accuracy: 1.0000\n",
      "Epoch 124/150\n",
      "1818/1818 [==============================] - 0s 19us/sample - loss: 1.1645e-07 - binary_accuracy: 1.0000\n",
      "Epoch 125/150\n",
      "1818/1818 [==============================] - 0s 19us/sample - loss: 1.1561e-07 - binary_accuracy: 1.0000\n",
      "Epoch 126/150\n",
      "1818/1818 [==============================] - 0s 19us/sample - loss: 1.1568e-07 - binary_accuracy: 1.0000\n",
      "Epoch 127/150\n",
      "1818/1818 [==============================] - 0s 19us/sample - loss: 1.1523e-07 - binary_accuracy: 1.0000\n",
      "Epoch 128/150\n",
      "1818/1818 [==============================] - 0s 19us/sample - loss: 1.1487e-07 - binary_accuracy: 1.0000\n",
      "Epoch 129/150\n",
      "1818/1818 [==============================] - 0s 19us/sample - loss: 1.1481e-07 - binary_accuracy: 1.0000\n",
      "Epoch 130/150\n",
      "1818/1818 [==============================] - 0s 20us/sample - loss: 1.1472e-07 - binary_accuracy: 1.0000\n",
      "Epoch 131/150\n",
      "1818/1818 [==============================] - 0s 19us/sample - loss: 1.1471e-07 - binary_accuracy: 1.0000\n",
      "Epoch 132/150\n",
      "1818/1818 [==============================] - 0s 20us/sample - loss: 1.1425e-07 - binary_accuracy: 1.0000\n",
      "Epoch 133/150\n",
      "1818/1818 [==============================] - 0s 21us/sample - loss: 1.1432e-07 - binary_accuracy: 1.0000\n",
      "Epoch 134/150\n",
      "1818/1818 [==============================] - 0s 22us/sample - loss: 1.1403e-07 - binary_accuracy: 1.0000\n",
      "Epoch 135/150\n"
     ]
    },
    {
     "name": "stdout",
     "output_type": "stream",
     "text": [
      "1818/1818 [==============================] - 0s 22us/sample - loss: 1.1373e-07 - binary_accuracy: 1.0000\n",
      "Epoch 136/150\n",
      "1818/1818 [==============================] - 0s 20us/sample - loss: 1.1396e-07 - binary_accuracy: 1.0000\n",
      "Epoch 137/150\n",
      "1818/1818 [==============================] - 0s 20us/sample - loss: 1.1326e-07 - binary_accuracy: 1.0000\n",
      "Epoch 138/150\n",
      "1818/1818 [==============================] - 0s 20us/sample - loss: 1.1379e-07 - binary_accuracy: 1.0000\n",
      "Epoch 139/150\n",
      "1818/1818 [==============================] - 0s 20us/sample - loss: 1.1345e-07 - binary_accuracy: 1.0000\n",
      "Epoch 140/150\n",
      "1818/1818 [==============================] - 0s 20us/sample - loss: 1.1335e-07 - binary_accuracy: 1.0000\n",
      "Epoch 141/150\n",
      "1818/1818 [==============================] - 0s 20us/sample - loss: 1.1351e-07 - binary_accuracy: 1.0000\n",
      "Epoch 142/150\n",
      "1818/1818 [==============================] - 0s 21us/sample - loss: 1.1336e-07 - binary_accuracy: 1.0000\n",
      "Epoch 143/150\n",
      "1818/1818 [==============================] - 0s 21us/sample - loss: 1.1305e-07 - binary_accuracy: 1.0000\n",
      "Epoch 144/150\n",
      "1818/1818 [==============================] - 0s 21us/sample - loss: 1.1289e-07 - binary_accuracy: 1.0000\n",
      "Epoch 145/150\n",
      "1818/1818 [==============================] - 0s 20us/sample - loss: 1.1282e-07 - binary_accuracy: 1.0000\n",
      "Epoch 146/150\n",
      "1818/1818 [==============================] - 0s 21us/sample - loss: 1.1288e-07 - binary_accuracy: 1.0000\n",
      "Epoch 147/150\n",
      "1818/1818 [==============================] - 0s 22us/sample - loss: 1.1310e-07 - binary_accuracy: 1.0000\n",
      "Epoch 148/150\n",
      "1818/1818 [==============================] - 0s 20us/sample - loss: 1.1249e-07 - binary_accuracy: 1.0000\n",
      "Epoch 149/150\n",
      "1818/1818 [==============================] - 0s 21us/sample - loss: 1.1278e-07 - binary_accuracy: 1.0000\n",
      "Epoch 150/150\n",
      "1818/1818 [==============================] - 0s 21us/sample - loss: 1.1266e-07 - binary_accuracy: 1.0000\n"
     ]
    },
    {
     "data": {
      "text/plain": [
       "<tensorflow.python.keras.callbacks.History at 0x757d85c90>"
      ]
     },
     "execution_count": 143,
     "metadata": {},
     "output_type": "execute_result"
    }
   ],
   "source": [
    "from tensorflow.keras import models\n",
    "from tensorflow.keras import layers\n",
    "from tensorflow.keras import optimizers\n",
    "from tensorflow.keras import losses\n",
    "from tensorflow.keras import metrics\n",
    "\n",
    "model = models.Sequential()\n",
    "model.add(layers.Dense(64,activation='relu',input_shape=(3000,)))#실제 쓸 단어갯수\n",
    "model.add(layers.Dense(64,activation='relu'))\n",
    "model.add(layers.Dense(1,activation='sigmoid'))\n",
    "\n",
    "model.compile(optimizer=optimizers.RMSprop(lr=0.001),loss = losses.binary_crossentropy,metrics=[metrics.binary_accuracy])\n",
    "\n",
    "model.fit(x_train,y_train,epochs=150,batch_size=512)\n",
    "\n"
   ]
  },
  {
   "cell_type": "code",
   "execution_count": 144,
   "metadata": {},
   "outputs": [],
   "source": [
    "def predict(review):\n",
    "    token = tokenize(review)\n",
    "    tf = term_frequency(token)\n",
    "    data = np.expand_dims(np.asarray(tf).astype('float32'),axis=0)\n",
    "    score = float(model.predict(data))\n",
    "    print(score)\n",
    "    if(score>0.5):\n",
    "        print(\"[{}]는 {:.2f}%확률로 만족 리뷰입니다.\".format(review,score*100))\n",
    "    else:\n",
    "        print(\"[{}]는 {:.2f}%확률로 불만족 리뷰입니다.\".format(review,(1-score)*100))"
   ]
  },
  {
   "cell_type": "markdown",
   "metadata": {},
   "source": [
    "## Predict"
   ]
  },
  {
   "cell_type": "code",
   "execution_count": 145,
   "metadata": {},
   "outputs": [
    {
     "name": "stdout",
     "output_type": "stream",
     "text": [
      "0.9999996423721313\n",
      "[좋습니다 정말 만족합니다]는 100.00%확률로 만족 리뷰입니다.\n",
      "4.983027793059591e-06\n",
      "[별로입니다 다시는 사기 싫습니다]는 100.00%확률로 불만족 리뷰입니다.\n",
      "0.44577816128730774\n",
      "[기대 많이 했는데 생각만큼 편하지는 않네요 그냥 그래요]는 55.42%확률로 불만족 리뷰입니다.\n",
      "0.9999053478240967\n",
      "[그냥 무난해요 좋지도 않고 나쁘지도 않고]는 99.99%확률로 만족 리뷰입니다.\n",
      "0.0025326251052320004\n",
      "[많이들 입기는하던데 솔직히 모르겠음 ]는 99.75%확률로 불만족 리뷰입니다.\n"
     ]
    }
   ],
   "source": [
    "predict(\"좋습니다 정말 만족합니다\")\n",
    "predict(\"별로입니다 다시는 사기 싫습니다\")\n",
    "predict(\"기대 많이 했는데 생각만큼 편하지는 않네요 그냥 그래요\")\n",
    "predict(\"그냥 무난해요 좋지도 않고 나쁘지도 않고\")\n",
    "predict(\"많이들 입기는하던데 솔직히 모르겠음 \")"
   ]
  }
 ],
 "metadata": {
  "kernelspec": {
   "display_name": "Python 3",
   "language": "python",
   "name": "python3"
  },
  "language_info": {
   "codemirror_mode": {
    "name": "ipython",
    "version": 3
   },
   "file_extension": ".py",
   "mimetype": "text/x-python",
   "name": "python",
   "nbconvert_exporter": "python",
   "pygments_lexer": "ipython3",
   "version": "3.7.6"
  }
 },
 "nbformat": 4,
 "nbformat_minor": 4
}
